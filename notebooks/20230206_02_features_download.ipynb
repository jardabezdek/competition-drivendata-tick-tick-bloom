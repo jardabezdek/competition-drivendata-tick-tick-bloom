{
 "cells": [
  {
   "cell_type": "markdown",
   "id": "c748d5f4",
   "metadata": {},
   "source": [
    "## In this notebook\n",
    "\n",
    "- Download features."
   ]
  },
  {
   "cell_type": "code",
   "execution_count": 1,
   "id": "ffe702ac",
   "metadata": {},
   "outputs": [],
   "source": [
    "import os\n",
    "from tqdm import tqdm\n",
    "\n",
    "# analytics\n",
    "import pandas as pd\n",
    "pd.set_option(\"display.max_rows\", 100)\n",
    "pd.set_option(\"display.max_columns\", 100)\n",
    "import numpy as np\n",
    "\n",
    "# features\n",
    "import planetary_computer as pc\n",
    "from pystac_client import Client\n",
    "\n",
    "# plot\n",
    "import matplotlib\n",
    "import matplotlib.pyplot as plt\n",
    "import seaborn as sns\n",
    "sns.set()"
   ]
  },
  {
   "cell_type": "code",
   "execution_count": 2,
   "id": "cf8a8825",
   "metadata": {},
   "outputs": [
    {
     "name": "stdout",
     "output_type": "stream",
     "text": [
      "/Users/strvmac/projects/competition-drivendata-tick-tick-bloom\n"
     ]
    }
   ],
   "source": [
    "cd .."
   ]
  },
  {
   "cell_type": "code",
   "execution_count": 3,
   "id": "a4b624d3",
   "metadata": {},
   "outputs": [],
   "source": [
    "from utils.features import (\n",
    "    crop_landsat_image,\n",
    "    crop_sentinel_image,\n",
    "    get_bounding_box,\n",
    "    get_date_range,\n",
    "    select_best_item,\n",
    ")"
   ]
  },
  {
   "cell_type": "code",
   "execution_count": 4,
   "id": "846c7417",
   "metadata": {},
   "outputs": [],
   "source": [
    "DATA_FOLDER = \"/Users/strvmac/projects/competition-drivendata-tick-tick-bloom/data/\"\n",
    "FEATURES_FOLDER = \"/Users/strvmac/projects/competition-drivendata-tick-tick-bloom/data/features/\"\n",
    "METADATA_FILEPATH = \"/Users/strvmac/projects/competition-drivendata-tick-tick-bloom/data/metadata.csv\"\n",
    "\n",
    "PYSTAT_CLIENT_URL = \"https://planetarycomputer.microsoft.com/api/stac/v1\""
   ]
  },
  {
   "cell_type": "code",
   "execution_count": 5,
   "id": "58d81e9a",
   "metadata": {},
   "outputs": [
    {
     "name": "stdout",
     "output_type": "stream",
     "text": [
      "total 3016\r\n",
      "drwxr-xr-x  5 strvmac  staff      160 Feb  7 20:59 \u001b[34mfeatures\u001b[m\u001b[m\r\n",
      "-rw-r--r--@ 1 strvmac  staff  1071430 Feb  6 16:02 metadata.csv\r\n",
      "-rw-r--r--@ 1 strvmac  staff    89581 Feb  6 16:02 submission_format.csv\r\n",
      "-rw-r--r--@ 1 strvmac  staff   377581 Feb  6 16:02 train_labels.csv\r\n"
     ]
    }
   ],
   "source": [
    "! ls -l $DATA_FOLDER"
   ]
  },
  {
   "cell_type": "markdown",
   "id": "f3bf1fcd",
   "metadata": {},
   "source": [
    "## Load metadata"
   ]
  },
  {
   "cell_type": "code",
   "execution_count": 6,
   "id": "89706192",
   "metadata": {},
   "outputs": [
    {
     "name": "stdout",
     "output_type": "stream",
     "text": [
      "CPU times: user 30.5 ms, sys: 8.16 ms, total: 38.7 ms\n",
      "Wall time: 37.4 ms\n"
     ]
    },
    {
     "data": {
      "text/html": [
       "<div>\n",
       "<style scoped>\n",
       "    .dataframe tbody tr th:only-of-type {\n",
       "        vertical-align: middle;\n",
       "    }\n",
       "\n",
       "    .dataframe tbody tr th {\n",
       "        vertical-align: top;\n",
       "    }\n",
       "\n",
       "    .dataframe thead th {\n",
       "        text-align: right;\n",
       "    }\n",
       "</style>\n",
       "<table border=\"1\" class=\"dataframe\">\n",
       "  <thead>\n",
       "    <tr style=\"text-align: right;\">\n",
       "      <th></th>\n",
       "      <th>uid</th>\n",
       "      <th>latitude</th>\n",
       "      <th>longitude</th>\n",
       "      <th>date</th>\n",
       "      <th>split</th>\n",
       "    </tr>\n",
       "  </thead>\n",
       "  <tbody>\n",
       "    <tr>\n",
       "      <th>23565</th>\n",
       "      <td>howu</td>\n",
       "      <td>36.7085</td>\n",
       "      <td>-121.749</td>\n",
       "      <td>2021-12-29</td>\n",
       "      <td>test</td>\n",
       "    </tr>\n",
       "    <tr>\n",
       "      <th>23566</th>\n",
       "      <td>nsoi</td>\n",
       "      <td>36.7368</td>\n",
       "      <td>-121.734</td>\n",
       "      <td>2021-12-29</td>\n",
       "      <td>test</td>\n",
       "    </tr>\n",
       "    <tr>\n",
       "      <th>23567</th>\n",
       "      <td>prfi</td>\n",
       "      <td>36.7518</td>\n",
       "      <td>-121.742</td>\n",
       "      <td>2021-12-29</td>\n",
       "      <td>test</td>\n",
       "    </tr>\n",
       "    <tr>\n",
       "      <th>23568</th>\n",
       "      <td>teuu</td>\n",
       "      <td>36.7723</td>\n",
       "      <td>-121.788</td>\n",
       "      <td>2021-12-29</td>\n",
       "      <td>test</td>\n",
       "    </tr>\n",
       "    <tr>\n",
       "      <th>23569</th>\n",
       "      <td>thki</td>\n",
       "      <td>36.7254</td>\n",
       "      <td>-121.730</td>\n",
       "      <td>2021-12-29</td>\n",
       "      <td>test</td>\n",
       "    </tr>\n",
       "  </tbody>\n",
       "</table>\n",
       "</div>"
      ],
      "text/plain": [
       "        uid  latitude  longitude       date split\n",
       "23565  howu   36.7085   -121.749 2021-12-29  test\n",
       "23566  nsoi   36.7368   -121.734 2021-12-29  test\n",
       "23567  prfi   36.7518   -121.742 2021-12-29  test\n",
       "23568  teuu   36.7723   -121.788 2021-12-29  test\n",
       "23569  thki   36.7254   -121.730 2021-12-29  test"
      ]
     },
     "execution_count": 6,
     "metadata": {},
     "output_type": "execute_result"
    }
   ],
   "source": [
    "%%time\n",
    "\n",
    "df = (\n",
    "    pd\n",
    "    .read_csv(METADATA_FILEPATH)\n",
    "    .sort_values(by=[\"split\", \"date\"], ascending=[False, True])\n",
    "    .reset_index(drop=True)\n",
    ")\n",
    "\n",
    "df.date = pd.to_datetime(df.date)\n",
    "df.tail()"
   ]
  },
  {
   "cell_type": "markdown",
   "id": "b3e4e8a3",
   "metadata": {},
   "source": [
    "## Load features"
   ]
  },
  {
   "cell_type": "code",
   "execution_count": 7,
   "id": "bf3339f8",
   "metadata": {},
   "outputs": [],
   "source": [
    "# connect to the STAC API\n",
    "\n",
    "catalog = Client.open(\n",
    "    url=PYSTAT_CLIENT_URL, \n",
    "    modifier=pc.sign_inplace,\n",
    ")"
   ]
  },
  {
   "cell_type": "code",
   "execution_count": 8,
   "id": "29d67fbc",
   "metadata": {},
   "outputs": [
    {
     "name": "stderr",
     "output_type": "stream",
     "text": [
      "100%|███████████████████████████████████████████████████████████████████████████████████████████████████████████████████████████████████████████████████████████████████████████| 23570/23570 [2:49:55<00:00,  2.31it/s]"
     ]
    },
    {
     "name": "stdout",
     "output_type": "stream",
     "text": [
      "CPU times: user 1h 7min 59s, sys: 7min 36s, total: 1h 15min 35s\n",
      "Wall time: 2h 49min 55s\n"
     ]
    },
    {
     "name": "stderr",
     "output_type": "stream",
     "text": [
      "\n"
     ]
    }
   ],
   "source": [
    "%%time\n",
    "\n",
    "errored_ids = []\n",
    "    \n",
    "for i, row in tqdm(df.iterrows(), total=len(df)):\n",
    "    \n",
    "    image_array_path = os.path.join(FEATURES_FOLDER, f\"{row.split}/{row.uid}.npy\")\n",
    "\n",
    "    if os.path.exists(image_array_path):\n",
    "        continue\n",
    "\n",
    "    try:\n",
    "        ## QUERY STAC API\n",
    "        # get query ranges for location and date\n",
    "        search_bbox = get_bounding_box(row.latitude, row.longitude, meter_buffer=50000)\n",
    "        search_date_range = get_date_range(row.date, time_buffer_days=15)\n",
    "\n",
    "        # search the planetary computer\n",
    "        search = catalog.search(\n",
    "            collections=[\"sentinel-2-l2a\", \"landsat-c2-l2\"],\n",
    "            # collections=[\"sentinel-2-l2a\", \"landsat-8-c2-l2\", \"landsat-9-c2-l2\"],\n",
    "            bbox=search_bbox,\n",
    "            datetime=search_date_range,\n",
    "        )\n",
    "        items = [item for item in search.get_all_items()]\n",
    "\n",
    "        ## GET BEST IMAGE\n",
    "        if len(items) == 0:\n",
    "            pass\n",
    "        else:\n",
    "            best_item, item_platform, item_date = select_best_item(\n",
    "                items, row.date, row.latitude, row.longitude\n",
    "            )\n",
    "\n",
    "        ## CONVERT TO FEATURES\n",
    "        # get small bbox just for features\n",
    "        feature_bbox = get_bounding_box(row.latitude, row.longitude, meter_buffer=100)\n",
    "\n",
    "        # crop the image\n",
    "        if \"sentinel\" in item_platform.lower():\n",
    "            image_array = crop_sentinel_image(best_item, feature_bbox)\n",
    "        else:\n",
    "            image_array = crop_landsat_image(best_item, feature_bbox)\n",
    "\n",
    "        # save image array so we don't have to rerun\n",
    "        with open(image_array_path, \"wb\") as f:\n",
    "            np.save(f, image_array)\n",
    "\n",
    "    # keep track of any that ran into errors without interrupting the process\n",
    "    except Exception as e:\n",
    "        errored_ids.append(row.uid)\n",
    "    \n",
    "    # break"
   ]
  },
  {
   "cell_type": "code",
   "execution_count": 9,
   "id": "eed2ee3c",
   "metadata": {},
   "outputs": [
    {
     "name": "stdout",
     "output_type": "stream",
     "text": [
      "❌ Could not pull satellite imagery for 264 samples!\n"
     ]
    }
   ],
   "source": [
    "print(f\"❌ Could not pull satellite imagery for {len(errored_ids)} samples!\")"
   ]
  },
  {
   "cell_type": "markdown",
   "id": "3b3c4881",
   "metadata": {},
   "source": [
    "## Results\n",
    "\n",
    "- Data downloaded and saved into proper folders."
   ]
  }
 ],
 "metadata": {
  "kernelspec": {
   "display_name": "Python 3 (ipykernel)",
   "language": "python",
   "name": "python3"
  },
  "language_info": {
   "codemirror_mode": {
    "name": "ipython",
    "version": 3
   },
   "file_extension": ".py",
   "mimetype": "text/x-python",
   "name": "python",
   "nbconvert_exporter": "python",
   "pygments_lexer": "ipython3",
   "version": "3.8.9"
  }
 },
 "nbformat": 4,
 "nbformat_minor": 5
}
